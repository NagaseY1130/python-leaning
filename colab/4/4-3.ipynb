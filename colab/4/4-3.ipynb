{
 "cells": [
  {
   "cell_type": "code",
   "execution_count": null,
   "metadata": {},
   "outputs": [],
   "source": [
    "##================================================\n",
    "## このセルを最初に実行せよ---Run this cell first.\n",
    "##================================================\n",
    "!wget -P . https://raw.githubusercontent.com/utokyo-ipp/utokyo-ipp.github.io/master/colab/4/sample.txt\n",
    "!wget -P . https://raw.githubusercontent.com/utokyo-ipp/utokyo-ipp.github.io/master/colab/4/shift_jis.txt\n",
    "!wget -P . https://raw.githubusercontent.com/utokyo-ipp/utokyo-ipp.github.io/master/colab/4/test.txt\n",
    "!wget -P . https://raw.githubusercontent.com/utokyo-ipp/utokyo-ipp.github.io/master/colab/4/utf-8.txt\n",
    "!wget -P text https://raw.githubusercontent.com/utokyo-ipp/utokyo-ipp.github.io/master/colab/4/text/novel.txt"
   ]
  },
  {
   "cell_type": "markdown",
   "metadata": {},
   "source": [
    "# 4-3. コンピュータにおけるファイルやディレクトリの配置\n",
    "\n",
    "木構造のデータ形式について説明します。\n",
    "この内容はPython言語に限らず、WindowsやMac、Linuxなどの一般的なOSにおいて共通する概念です。\n",
    "Colaboratoryでは、同様の構造が仮想環境上に作られます。\n",
    "\n",
    "みなさん、Windowsではエクスプローラ、MacではFinderを使ってファイルを階層的に保存していますよね。\n",
    "\n",
    "下の例では、Windowsで `ドキュメント`（`Documents`) という名前のフォルダの中に\n",
    "`Python入門` というフォルダを作り、\n",
    "その下にこの教材を置いた時の、エクスプローラの様子を表しています。\n",
    "\n",
    "![エクスプローラ](https://raw.githubusercontent.com/utokyo-ipp/utokyo-ipp.github.io/master/colab/./4/fig/Explore.png)\n"
   ]
  },
  {
   "cell_type": "markdown",
   "metadata": {},
   "source": [
    "これは Jupyter Notebook では以下のように見えます。\n",
    "\n",
    "![Jupyter Notebook](https://raw.githubusercontent.com/utokyo-ipp/utokyo-ipp.github.io/master/colab/./4/fig/jupyterTree.png)"
   ]
  },
  {
   "cell_type": "markdown",
   "metadata": {},
   "source": [
    "このようなデータ形式は以下のような図で表すこともできます。\n",
    "まるで木を逆さにしたような形に見えますね。\n",
    "ですからこのようなデータの形式を「木構造」と呼びます。\n",
    "\n",
    "また、一番根っこにあたるデータを「ルート（根）」、先端にあたるデータを「リーフ（葉）」、その間にあるデータを「ノード（節）」と呼びます。\n",
    "\n",
    "![Jupyter Notebook tree](https://raw.githubusercontent.com/utokyo-ipp/utokyo-ipp.github.io/master/colab/./4/fig/jupyterTreeIllust.png) \n",
    "\n",
    "\n",
    "データの保存においては、ファイルはリーフ（葉）に相当し、フォルダはノード（節）に相当します。\n",
    "ルートはハードディスクやUSBメモリなど記録媒体自体に対応することが多いです。\n",
    "ハードディスクに入っているファイルと、USBメモリに入っているファイルは、それぞれ違う木に属するデータということです。\n",
    "\n",
    "特にファイルの場所を意味するとき、フォルダのことを**ディレクトリ**と呼びます。"
   ]
  },
  {
   "cell_type": "markdown",
   "metadata": {},
   "source": [
    "## カレントワーキングディレクトリ\n",
    "\n",
    "プログラムは、必ずどこかのディレクトリで動いています。\n",
    "このプログラムが動作しているディレクトリのことを、**ワーキングディレクトリ**（もしくは**作業ディレクトリ**）と呼びます。\n",
    "通例、特にWindowsやmacOSでは、何らかのファイルをクリックしてアプリケーションが起動したとき、その開いたファイルのある場所がワーキングディレクトリになります。\n",
    "\n",
    "ワーキングディレクトリは、プログラムの実行中に変更できます。\n",
    "Python上では [**`os.chdir`**](https://docs.python.org/ja/3/library/os.html#os.chdir) を使うことで変更できます。\n",
    "\n",
    "プログラム実行中の現在のワーキングディレクトリのことを、**カレントワーキングディレクトリ**、もしくは単に**カレントディレクトリ**と呼びます。\n",
    "カレントディレクトリは頻繁に利用するので、 `.` という特別な記号によって表現できます。\n",
    "## パス\n",
    "\n",
    "カレントディレクトリに置かれているファイルは、ファイル名を指定するだけで開くことができます。\n",
    "だから、4-1で示したように、カレントディレクトリにある `sample.txt` は、ファイル名を指定するだけで開けます。"
   ]
  },
  {
   "cell_type": "code",
   "execution_count": null,
   "metadata": {},
   "outputs": [],
   "source": [
    "open('sample.txt', 'r', encoding='utf-8')"
   ]
  },
  {
   "cell_type": "markdown",
   "metadata": {},
   "source": [
    "一方、それ以外の場所にあるファイルについては、そのファイルのディレクトリまで含めて指定しなければ、開くことができません。"
   ]
  },
  {
   "cell_type": "code",
   "execution_count": null,
   "metadata": {},
   "outputs": [],
   "source": [
    "open('novel.txt', 'r')"
   ]
  },
  {
   "cell_type": "markdown",
   "metadata": {},
   "source": [
    "カレントディレクトリに存在しない `novel.txt` を開こうとしたので `FileNotFoundError` が生じました。\n",
    "`novel.txt` は、`text` というディレクトリの中にあるので、それ明示するために、`/` で区切って、次のように指定します。"
   ]
  },
  {
   "cell_type": "code",
   "execution_count": null,
   "metadata": {},
   "outputs": [],
   "source": [
    "open('text/novel.txt', 'r', encoding='utf-8')"
   ]
  },
  {
   "cell_type": "markdown",
   "metadata": {},
   "source": [
    "実は、カレントディレクトリにあるファイルが、ファイル名の指定だけで開けるのは、自動的に `./` が補われていたからでした。\n",
    "\n",
    "`open` の第1引数に渡す文字列ような、ファイルやディレクトリの場所を指定する表記を、**パス**と呼びます。\n",
    "パス（経路）と呼ぶのは、`/` 区切りで1歩ずつ次に進むディレクトリを指定することに由来しています。\n",
    "\n",
    "パスを記述する際、ルートディレクトリは `/` で表されます。\n",
    "ルートディレクトリから始まるパスを、**絶対パス**と呼びます。\n",
    "一方、カレントディレクトリからのパスを、**相対パス**と呼びます。\n",
    "パス表記において `/` 以外から始まる場合は、自動的に先頭に `./` が補われて、相対パスとして扱われます。\n",
    "\n",
    "さて、`./text/` というパス表記は、カレントディレクトリにある一段下の `text` ディレクトリに進むことに対応します。\n",
    "これに、一段上のディレクトリを表す `..` を組み合わせることで、より柔軟にパスを指定できます。\n",
    "\n",
    "たとえば、`./text/../` は `./` と同じディレクトリを指します。"
   ]
  },
  {
   "cell_type": "code",
   "execution_count": null,
   "metadata": {},
   "outputs": [],
   "source": [
    "with open('sample.txt', 'r', encoding='utf-8') as f:\n",
    "    print(f.read(), end='')"
   ]
  },
  {
   "cell_type": "code",
   "execution_count": null,
   "metadata": {},
   "outputs": [],
   "source": [
    "with open('./text/../sample.txt', 'r', encoding='utf-8') as f:\n",
    "    print(f.read(), end='')"
   ]
  },
  {
   "cell_type": "markdown",
   "metadata": {},
   "source": [
    "また、カレントディレクトリを `./text/` に変化させた後に、`sample.txt`を開くときには、`../sample.txt`と指定することができます。"
   ]
  },
  {
   "cell_type": "code",
   "execution_count": null,
   "metadata": {},
   "outputs": [],
   "source": [
    "import os\n",
    "os.chdir('./text') # 1段下の text に行く\n",
    "with open('../sample.txt', 'r', encoding='utf-8') as f:\n",
    "    print(f.read())\n",
    "os.chdir('..') # 元のディレクトリに戻る"
   ]
  },
  {
   "cell_type": "markdown",
   "metadata": {},
   "source": [
    "## 木構造によるデータ表現\n",
    "\n",
    "木構造はファイルやディレクトリの保存形式だけでなく、データの表現として幅広く利用されます。\n",
    "たとえば家系図も木構造による表現です。「家系図」は英語で \"family tree\" ですよね。\n",
    "\n",
    "![Family tree](https://raw.githubusercontent.com/utokyo-ipp/utokyo-ipp.github.io/master/colab/./4/fig/FamilyTree.png)\n",
    "\n",
    "このような構造を持つデータでは、まるで家系図のように、\n",
    "上位下位関係にあるデータ同士を「親子 (parent/child)」と呼んだり、\n",
    "同位関係にあるものを「兄妹 (sibling)」と呼んだりします。\n",
    "「祖先 (ancestor)」や「子孫 (desendant)」という表現も使われます。\n",
    "\n",
    "データのこのような表現は、実際に親子関係にあるかは関係ありません。\n",
    "たとえば下の図は四肢動物の系統樹です。\n",
    "\n",
    "![tree](https://raw.githubusercontent.com/utokyo-ipp/utokyo-ipp.github.io/master/colab/./4/fig/PhylogeneticTree.png)\n",
    "\n",
    "データ構造的には、「有羊膜類」と「哺乳類」は親子関係にあるというわけです。"
   ]
  },
  {
   "cell_type": "code",
   "execution_count": null,
   "metadata": {},
   "outputs": [],
   "source": []
  }
 ],
 "metadata": {
  "kernelspec": {
   "display_name": "Python 3",
   "language": "python",
   "name": "python3"
  },
  "language_info": {
   "name": "python"
  }
 },
 "nbformat": 4,
 "nbformat_minor": 2
}
